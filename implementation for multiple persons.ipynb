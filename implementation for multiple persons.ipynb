{
 "cells": [
  {
   "cell_type": "code",
   "execution_count": 24,
   "id": "87265d23",
   "metadata": {},
   "outputs": [],
   "source": [
    "import tensorflow as tf"
   ]
  },
  {
   "cell_type": "code",
   "execution_count": 7,
   "id": "4deb8a55",
   "metadata": {},
   "outputs": [],
   "source": [
    "import tensorflow_hub as hub"
   ]
  },
  {
   "cell_type": "code",
   "execution_count": 8,
   "id": "c0cff21a",
   "metadata": {},
   "outputs": [],
   "source": [
    "import cv2\n",
    "import matplotlib.pyplot as plt\n",
    "import numpy as np"
   ]
  },
  {
   "cell_type": "code",
   "execution_count": 9,
   "id": "5a1afb7b",
   "metadata": {},
   "outputs": [],
   "source": [
    "model = hub.load('https://tfhub.dev/google/movenet/multipose/lightning/1')\n",
    "movenet = model.signatures['serving_default']"
   ]
  },
  {
   "cell_type": "code",
   "execution_count": 95,
   "id": "a85c9e4e",
   "metadata": {},
   "outputs": [],
   "source": [
    "cap=cv2.VideoCapture('running.mp4')\n",
    "while cap.isOpened():\n",
    "    ret,frame=cap.read()\n",
    "    #Resize image\n",
    "    img = frame.copy()\n",
    "    img = tf.image.resize_with_pad(tf.expand_dims(img,axis=0),128,256)\n",
    "    input_img = tf.cast(img,dtype=tf.int32)\n",
    "    \n",
    "    #Detection section\n",
    "    results = movenet(input_img)\n",
    "    keypoints_with_scores = results['output_0'].numpy()[:,:,:51].reshape((6,17,3))\n",
    "    \n",
    "    # Render keypoints \n",
    "    loop_through_people(frame, keypoints_with_scores, EDGES, 0.2)\n",
    "    \n",
    "    cv2.imshow('Movenet multipose',frame)\n",
    "    \n",
    "    if cv2.waitKey(1) & 0xFF==ord('q'):\n",
    "        break\n",
    "        \n",
    "cap.release()\n",
    "cv2.destroyAllWindows()"
   ]
  },
  {
   "cell_type": "code",
   "execution_count": 83,
   "id": "501408a5",
   "metadata": {},
   "outputs": [
    {
     "data": {
      "text/plain": [
       "(676, 1280, 3)"
      ]
     },
     "execution_count": 83,
     "metadata": {},
     "output_type": "execute_result"
    }
   ],
   "source": [
    "frame.shape"
   ]
  },
  {
   "cell_type": "code",
   "execution_count": 84,
   "id": "74a30bbc",
   "metadata": {},
   "outputs": [
    {
     "data": {
      "text/plain": [
       "0.528125"
      ]
     },
     "execution_count": 84,
     "metadata": {},
     "output_type": "execute_result"
    }
   ],
   "source": [
    "676/1280"
   ]
  },
  {
   "cell_type": "code",
   "execution_count": 85,
   "id": "2e6da3f7",
   "metadata": {},
   "outputs": [
    {
     "data": {
      "text/plain": [
       "133.12"
      ]
     },
     "execution_count": 85,
     "metadata": {},
     "output_type": "execute_result"
    }
   ],
   "source": [
    "256*.52"
   ]
  },
  {
   "cell_type": "code",
   "execution_count": 86,
   "id": "57b6cfb1",
   "metadata": {},
   "outputs": [
    {
     "data": {
      "text/plain": [
       "5"
      ]
     },
     "execution_count": 86,
     "metadata": {},
     "output_type": "execute_result"
    }
   ],
   "source": [
    "133%32"
   ]
  },
  {
   "cell_type": "code",
   "execution_count": 87,
   "id": "405cb415",
   "metadata": {},
   "outputs": [
    {
     "data": {
      "text/plain": [
       "128"
      ]
     },
     "execution_count": 87,
     "metadata": {},
     "output_type": "execute_result"
    }
   ],
   "source": [
    "133-5"
   ]
  },
  {
   "cell_type": "code",
   "execution_count": 88,
   "id": "e35b8b04",
   "metadata": {},
   "outputs": [
    {
     "data": {
      "text/plain": [
       "133.12"
      ]
     },
     "execution_count": 88,
     "metadata": {},
     "output_type": "execute_result"
    }
   ],
   "source": [
    "256*.52"
   ]
  },
  {
   "cell_type": "code",
   "execution_count": 89,
   "id": "d8967156",
   "metadata": {},
   "outputs": [
    {
     "data": {
      "text/plain": [
       "array([[0.14957061, 0.560165  , 0.3781239 ],\n",
       "       [0.13688801, 0.5660148 , 0.5743091 ],\n",
       "       [0.13473761, 0.5521133 , 0.5163709 ],\n",
       "       [0.14913991, 0.5739149 , 0.49236777],\n",
       "       [0.14553934, 0.5403045 , 0.60453874],\n",
       "       [0.23029318, 0.59569526, 0.6819643 ],\n",
       "       [0.23181199, 0.5142273 , 0.6649099 ],\n",
       "       [0.35400432, 0.619764  , 0.7793927 ],\n",
       "       [0.34166238, 0.49533615, 0.48890907],\n",
       "       [0.3548336 , 0.58099157, 0.5064776 ],\n",
       "       [0.36903492, 0.51325107, 0.45426142],\n",
       "       [0.4587857 , 0.5768876 , 0.6693453 ],\n",
       "       [0.46397159, 0.5342734 , 0.63104784],\n",
       "       [0.6331107 , 0.57295936, 0.6648483 ],\n",
       "       [0.6437543 , 0.53277194, 0.6535472 ],\n",
       "       [0.76400226, 0.56988966, 0.6197769 ],\n",
       "       [0.8244408 , 0.5293817 , 0.5096425 ]], dtype=float32)"
      ]
     },
     "execution_count": 89,
     "metadata": {},
     "output_type": "execute_result"
    }
   ],
   "source": [
    "keypoints_with_scores[0]"
   ]
  },
  {
   "cell_type": "code",
   "execution_count": 29,
   "id": "21f9413e",
   "metadata": {},
   "outputs": [
    {
     "data": {
      "text/plain": [
       "51"
      ]
     },
     "execution_count": 29,
     "metadata": {},
     "output_type": "execute_result"
    }
   ],
   "source": [
    "# x,y,score\n",
    "3*17"
   ]
  },
  {
   "cell_type": "code",
   "execution_count": 31,
   "id": "255e434f",
   "metadata": {},
   "outputs": [
    {
     "data": {
      "text/plain": [
       "(1, 6, 51)"
      ]
     },
     "execution_count": 31,
     "metadata": {},
     "output_type": "execute_result"
    }
   ],
   "source": [
    "results['output_0'].numpy()[:,:,:51].shape"
   ]
  },
  {
   "cell_type": "code",
   "execution_count": 38,
   "id": "24791ce1",
   "metadata": {},
   "outputs": [],
   "source": [
    "# Function to loop through each person detected and render\n",
    "def loop_through_people(frame, keypoints_with_scores, edges, confidence_threshold):\n",
    "    for person in keypoints_with_scores:\n",
    "        draw_connections(frame, person, edges, confidence_threshold)\n",
    "        draw_keypoints(frame, person, confidence_threshold)"
   ]
  },
  {
   "cell_type": "code",
   "execution_count": 93,
   "id": "70dea8ee",
   "metadata": {},
   "outputs": [],
   "source": [
    "def draw_keypoints(frame, keypoints, confidence_threshold):\n",
    "    y, x, c = frame.shape\n",
    "    shaped = np.squeeze(np.multiply(keypoints, [y,x,1]))\n",
    "    \n",
    "    for kp in shaped:\n",
    "        ky, kx, kp_conf = kp\n",
    "        if kp_conf > confidence_threshold:\n",
    "            cv2.circle(frame, (int(kx), int(ky)), 3, (0,255,0), -1)"
   ]
  },
  {
   "cell_type": "code",
   "execution_count": 92,
   "id": "6451f052",
   "metadata": {},
   "outputs": [],
   "source": [
    "EDGES = {\n",
    "    \n",
    "    (0, 1): 'm',\n",
    "    (0, 2): 'c',\n",
    "    (1, 3): 'm',\n",
    "    (2, 4): 'c',\n",
    "    (0, 5): 'm',\n",
    "    (0, 6): 'c',\n",
    "    (5, 7): 'm',\n",
    "    (7, 9): 'm',\n",
    "    (6, 8): 'c',\n",
    "    (8, 10): 'c',\n",
    "    (5, 6): 'y',\n",
    "    (5, 11): 'm',\n",
    "    (6, 12): 'c',\n",
    "    (11, 12): 'y',\n",
    "    (11, 13): 'm',\n",
    "    (13, 15): 'm',\n",
    "    (12, 14): 'c',\n",
    "    (14, 16): 'c'\n",
    "}"
   ]
  },
  {
   "cell_type": "code",
   "execution_count": 91,
   "id": "cd6b8cab",
   "metadata": {},
   "outputs": [],
   "source": [
    "def draw_connections(frame, keypoints, edges, confidence_threshold):\n",
    "    y, x, c = frame.shape\n",
    "    shaped = np.squeeze(np.multiply(keypoints, [y,x,1]))\n",
    "    \n",
    "    for edge, color in edges.items():\n",
    "        p1, p2 = edge\n",
    "        y1, x1, c1 = shaped[p1]\n",
    "        y2, x2, c2 = shaped[p2]\n",
    "        \n",
    "        if (c1 > confidence_threshold) & (c2 > confidence_threshold):      \n",
    "            cv2.line(frame, (int(x1), int(y1)), (int(x2), int(y2)), (0,0,255), 2)"
   ]
  },
  {
   "cell_type": "code",
   "execution_count": null,
   "id": "9f75dc56",
   "metadata": {},
   "outputs": [],
   "source": []
  }
 ],
 "metadata": {
  "kernelspec": {
   "display_name": "Python 3 (ipykernel)",
   "language": "python",
   "name": "python3"
  },
  "language_info": {
   "codemirror_mode": {
    "name": "ipython",
    "version": 3
   },
   "file_extension": ".py",
   "mimetype": "text/x-python",
   "name": "python",
   "nbconvert_exporter": "python",
   "pygments_lexer": "ipython3",
   "version": "3.9.12"
  }
 },
 "nbformat": 4,
 "nbformat_minor": 5
}
